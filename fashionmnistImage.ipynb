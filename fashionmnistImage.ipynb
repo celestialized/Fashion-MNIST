{
 "cells": [
  {
   "cell_type": "code",
   "execution_count": 15,
   "metadata": {
    "colab": {
     "autoexec": {
      "startup": false,
      "wait_interval": 0
     },
     "base_uri": "https://localhost:8080/",
     "height": 37
    },
    "colab_type": "code",
    "collapsed": true,
    "deletable": true,
    "editable": true,
    "executionInfo": {
     "elapsed": 3967,
     "status": "ok",
     "timestamp": 1529938826172,
     "user": {
      "displayName": "Apoorv Lokhande",
      "photoUrl": "https://lh3.googleusercontent.com/a/default-user=s128",
      "userId": "101737975985454484958"
     },
     "user_tz": -330
    },
    "id": "u6ZcWDi95h6M",
    "outputId": "0433343e-57f6-4f5c-8aa4-ff1ecfed7b62"
   },
   "outputs": [],
   "source": [
    "# http://pytorch.org/\n",
    "from os import path\n",
    "from wheel.pep425tags import get_abbr_impl, get_impl_ver, get_abi_tag\n",
    "platform = '{}{}-{}'.format(get_abbr_impl(), get_impl_ver(), get_abi_tag())\n",
    "\n",
    "accelerator = 'cu80' if path.exists('/opt/bin/nvidia-smi') else 'cpu'\n",
    "\n",
    "!pip install -q http://download.pytorch.org/whl/{accelerator}/torch-0.3.0.post4-{platform}-linux_x86_64.whl torchvision\n",
    "import torch"
   ]
  },
  {
   "cell_type": "code",
   "execution_count": 16,
   "metadata": {
    "colab": {
     "autoexec": {
      "startup": false,
      "wait_interval": 0
     },
     "base_uri": "https://localhost:8080/",
     "height": 37
    },
    "colab_type": "code",
    "collapsed": true,
    "deletable": true,
    "editable": true,
    "executionInfo": {
     "elapsed": 1487,
     "status": "ok",
     "timestamp": 1529938830495,
     "user": {
      "displayName": "Apoorv Lokhande",
      "photoUrl": "https://lh3.googleusercontent.com/a/default-user=s128",
      "userId": "101737975985454484958"
     },
     "user_tz": -330
    },
    "id": "q6fVxPqMDGeC",
    "outputId": "0a28dd36-093b-4d11-9deb-bc7e137ccf97"
   },
   "outputs": [],
   "source": [
    "import torch \n",
    "import torch.nn as nn\n",
    "import torchvision.datasets as dsets\n",
    "from skimage import transform\n",
    "import torchvision.transforms as transforms\n",
    "from torch.autograd import Variable\n",
    "import pandas as pd\n",
    "import numpy as np\n",
    "from torch.utils.data import Dataset, DataLoader\n",
    "import random\n",
    "import math"
   ]
  },
  {
   "cell_type": "markdown",
   "metadata": {
    "colab_type": "text",
    "deletable": true,
    "editable": true,
    "id": "sKD867-e9oS5"
   },
   "source": [
    "# D**ata Loading**"
   ]
  },
  {
   "cell_type": "code",
   "execution_count": 5,
   "metadata": {
    "colab": {
     "autoexec": {
      "startup": false,
      "wait_interval": 0
     },
     "base_uri": "https://localhost:8080/",
     "height": 119
    },
    "colab_type": "code",
    "collapsed": false,
    "deletable": true,
    "editable": true,
    "executionInfo": {
     "elapsed": 18447,
     "status": "ok",
     "timestamp": 1529938774574,
     "user": {
      "displayName": "Apoorv Lokhande",
      "photoUrl": "https://lh3.googleusercontent.com/a/default-user=s128",
      "userId": "101737975985454484958"
     },
     "user_tz": -330
    },
    "id": "oHvvZPK9Y6CP",
    "outputId": "8d0b3862-2fcf-4fb3-cf89-69575f10e4fa"
   },
   "outputs": [
    {
     "name": "stdout",
     "output_type": "stream",
     "text": [
      "Downloading http://fashion-mnist.s3-website.eu-central-1.amazonaws.com/train-images-idx3-ubyte.gz\n",
      "Downloading http://fashion-mnist.s3-website.eu-central-1.amazonaws.com/train-labels-idx1-ubyte.gz\n",
      "Downloading http://fashion-mnist.s3-website.eu-central-1.amazonaws.com/t10k-images-idx3-ubyte.gz\n",
      "Downloading http://fashion-mnist.s3-website.eu-central-1.amazonaws.com/t10k-labels-idx1-ubyte.gz\n",
      "Processing...\n",
      "Done!\n"
     ]
    }
   ],
   "source": [
    "train_dataset = dsets.FashionMNIST(root='./data',\n",
    "                           train=True,\n",
    "                           transform=transforms.ToTensor(),\n",
    "                           download=True)\n",
    "\n",
    "test_dataset = dsets.FashionMNIST(root='./data',\n",
    "                           train=False,\n",
    "                           transform=transforms.ToTensor())"
   ]
  },
  {
   "cell_type": "code",
   "execution_count": 6,
   "metadata": {
    "colab": {
     "autoexec": {
      "startup": false,
      "wait_interval": 0
     },
     "base_uri": "https://localhost:8080/",
     "height": 34
    },
    "colab_type": "code",
    "collapsed": false,
    "deletable": true,
    "editable": true,
    "executionInfo": {
     "elapsed": 894,
     "status": "ok",
     "timestamp": 1529938776262,
     "user": {
      "displayName": "Apoorv Lokhande",
      "photoUrl": "https://lh3.googleusercontent.com/a/default-user=s128",
      "userId": "101737975985454484958"
     },
     "user_tz": -330
    },
    "id": "MOpTM9sa8cik",
    "outputId": "434c53b2-6ffd-4e4b-b16a-16e09ac50abd"
   },
   "outputs": [
    {
     "name": "stdout",
     "output_type": "stream",
     "text": [
      "torch.Size([60000, 28, 28])\n"
     ]
    }
   ],
   "source": [
    "print(train_dataset.train_data.size())"
   ]
  },
  {
   "cell_type": "code",
   "execution_count": 7,
   "metadata": {
    "colab": {
     "autoexec": {
      "startup": false,
      "wait_interval": 0
     },
     "base_uri": "https://localhost:8080/",
     "height": 34
    },
    "colab_type": "code",
    "collapsed": false,
    "deletable": true,
    "editable": true,
    "executionInfo": {
     "elapsed": 2272,
     "status": "ok",
     "timestamp": 1529938778747,
     "user": {
      "displayName": "Apoorv Lokhande",
      "photoUrl": "https://lh3.googleusercontent.com/a/default-user=s128",
      "userId": "101737975985454484958"
     },
     "user_tz": -330
    },
    "id": "rlEVNKf_8fcc",
    "outputId": "52b0ea5b-75c4-43b6-b8b0-0c4a6f5b83c7"
   },
   "outputs": [
    {
     "name": "stdout",
     "output_type": "stream",
     "text": [
      "torch.Size([60000])\n"
     ]
    }
   ],
   "source": [
    "print(train_dataset.train_labels.size())"
   ]
  },
  {
   "cell_type": "code",
   "execution_count": 8,
   "metadata": {
    "colab": {
     "autoexec": {
      "startup": false,
      "wait_interval": 0
     },
     "base_uri": "https://localhost:8080/",
     "height": 34
    },
    "colab_type": "code",
    "collapsed": false,
    "deletable": true,
    "editable": true,
    "executionInfo": {
     "elapsed": 2315,
     "status": "ok",
     "timestamp": 1529938781330,
     "user": {
      "displayName": "Apoorv Lokhande",
      "photoUrl": "https://lh3.googleusercontent.com/a/default-user=s128",
      "userId": "101737975985454484958"
     },
     "user_tz": -330
    },
    "id": "FaDKQ5Y08iob",
    "outputId": "4a3f5786-932d-47f4-e070-80f3d14be854"
   },
   "outputs": [
    {
     "name": "stdout",
     "output_type": "stream",
     "text": [
      "torch.Size([10000, 28, 28])\n"
     ]
    }
   ],
   "source": [
    "print(test_dataset.test_data.size())"
   ]
  },
  {
   "cell_type": "code",
   "execution_count": 9,
   "metadata": {
    "colab": {
     "autoexec": {
      "startup": false,
      "wait_interval": 0
     },
     "base_uri": "https://localhost:8080/",
     "height": 34
    },
    "colab_type": "code",
    "collapsed": false,
    "deletable": true,
    "editable": true,
    "executionInfo": {
     "elapsed": 1241,
     "status": "ok",
     "timestamp": 1529938782828,
     "user": {
      "displayName": "Apoorv Lokhande",
      "photoUrl": "https://lh3.googleusercontent.com/a/default-user=s128",
      "userId": "101737975985454484958"
     },
     "user_tz": -330
    },
    "id": "m8mFp7a18kyV",
    "outputId": "23bc10b0-8436-4469-fdff-e4a530b6464c"
   },
   "outputs": [
    {
     "name": "stdout",
     "output_type": "stream",
     "text": [
      "torch.Size([10000])\n"
     ]
    }
   ],
   "source": [
    "print(test_dataset.test_labels.size())"
   ]
  },
  {
   "cell_type": "code",
   "execution_count": 10,
   "metadata": {
    "colab": {
     "autoexec": {
      "startup": false,
      "wait_interval": 0
     },
     "base_uri": "https://localhost:8080/",
     "height": 17
    },
    "colab_type": "code",
    "collapsed": true,
    "deletable": true,
    "editable": true,
    "executionInfo": {
     "elapsed": 1141,
     "status": "ok",
     "timestamp": 1529938784902,
     "user": {
      "displayName": "Apoorv Lokhande",
      "photoUrl": "https://lh3.googleusercontent.com/a/default-user=s128",
      "userId": "101737975985454484958"
     },
     "user_tz": -330
    },
    "id": "3YdTMNER9fTh",
    "outputId": "c4ea2439-cd66-4930-c5a6-83ac00c15538"
   },
   "outputs": [],
   "source": [
    "batch_size = 100\n",
    "n_iters = 4000\n",
    "num_epochs = n_iters/(len(train_dataset)/batch_size)\n",
    "num_epochs = int(num_epochs)\n",
    "\n",
    "train_loader = torch.utils.data.DataLoader(dataset=train_dataset,\n",
    "                                          batch_size=batch_size,\n",
    "                                          shuffle=True)\n",
    "\n",
    "test_loader = torch.utils.data.DataLoader(dataset=test_dataset,\n",
    "                                          batch_size=batch_size,\n",
    "                                          shuffle=False)\n",
    "\n"
   ]
  },
  {
   "cell_type": "markdown",
   "metadata": {
    "colab_type": "text",
    "deletable": true,
    "editable": true,
    "id": "zYifJMgu-Air"
   },
   "source": [
    "# **Visualizing Dataset**"
   ]
  },
  {
   "cell_type": "code",
   "execution_count": 11,
   "metadata": {
    "colab": {
     "autoexec": {
      "startup": false,
      "wait_interval": 0
     },
     "base_uri": "https://localhost:8080/",
     "height": 498
    },
    "colab_type": "code",
    "collapsed": false,
    "deletable": true,
    "editable": true,
    "executionInfo": {
     "elapsed": 3082,
     "status": "ok",
     "timestamp": 1529938790798,
     "user": {
      "displayName": "Apoorv Lokhande",
      "photoUrl": "https://lh3.googleusercontent.com/a/default-user=s128",
      "userId": "101737975985454484958"
     },
     "user_tz": -330
    },
    "id": "NIiYcIqg-Dgg",
    "outputId": "d27030d5-cb0e-4074-e67f-7e127c1ab14e"
   },
   "outputs": [
    {
     "data": {
      "image/png": "[encoded data removed]",
      "text/plain": [
       "<matplotlib.figure.Figure at 0x7f4a04594eb8>"
      ]
     },
     "metadata": {
      "tags": []
     },
     "output_type": "display_data"
    }
   ],
   "source": [
    "import matplotlib.pyplot as plt\n",
    "labels_map = {0 : 'T-Shirt', 1 : 'Trouser', 2 : 'Pullover', 3 : 'Dress', 4 : 'Coat', 5 : 'Sandal', 6 : 'Shirt',\n",
    "              7 : 'Sneaker', 8 : 'Bag', 9 : 'Ankle Boot'};\n",
    "fig = plt.figure(figsize=(10, 10))  # width and height of images\n",
    "columns = 6\n",
    "rows = 6\n",
    "for i in range(1, columns*rows +1):\n",
    "    img_xy = np.random.randint(len(train_dataset));\n",
    "    img = train_dataset[img_xy][0][0,:,:]\n",
    "    fig.add_subplot(rows, columns, i)\n",
    "    plt.title(labels_map[train_dataset[img_xy][1]])\n",
    "    plt.axis('off')\n",
    "    plt.imshow(img, cmap='gray')\n",
    "plt.show()"
   ]
  },
  {
   "cell_type": "markdown",
   "metadata": {
    "colab_type": "text",
    "deletable": true,
    "editable": true,
    "id": "14XIlk1w_1Zz"
   },
   "source": [
    "# **Creating model class**"
   ]
  },
  {
   "cell_type": "code",
   "execution_count": 12,
   "metadata": {
    "colab": {
     "autoexec": {
      "startup": false,
      "wait_interval": 0
     },
     "base_uri": "https://localhost:8080/",
     "height": 17
    },
    "colab_type": "code",
    "collapsed": true,
    "deletable": true,
    "editable": true,
    "executionInfo": {
     "elapsed": 1054,
     "status": "ok",
     "timestamp": 1529938802219,
     "user": {
      "displayName": "Apoorv Lokhande",
      "photoUrl": "https://lh3.googleusercontent.com/a/default-user=s128",
      "userId": "101737975985454484958"
     },
     "user_tz": -330
    },
    "id": "hOouL2EL_4Kv",
    "outputId": "69359c3e-6a7c-4e8f-e8d7-c018f38414b0"
   },
   "outputs": [],
   "source": [
    "class CNN(nn.Module):\n",
    "    def __init__(self):\n",
    "        super(CNN, self).__init__()\n",
    "        #Convolution 1\n",
    "        self.cn1 = nn.Sequential(\n",
    "            nn.Conv2d(1, 16, kernel_size=5, padding=2),\n",
    "            nn.BatchNorm2d(16),      #Normalization\n",
    "            nn.ReLU(),\n",
    "            nn.MaxPool2d(2))\n",
    "        #Convolution 2\n",
    "        self.cn2 = nn.Sequential(\n",
    "            nn.Conv2d(16, 32, kernel_size=5, padding=2),\n",
    "            nn.BatchNorm2d(32),\n",
    "            nn.ReLU(),\n",
    "            nn.MaxPool2d(2))\n",
    "        #Fully connected 1\n",
    "        self.fc = nn.Linear(7*7*32, 10)\n",
    "        \n",
    "    def forward(self, x):\n",
    "        out = self.cn1(x)\n",
    "        out = self.cn2(out)\n",
    "        out = out.view(out.size(0), -1)\n",
    "        out = self.fc(out)    # Linear function (readout)\n",
    "        return out"
   ]
  },
  {
   "cell_type": "markdown",
   "metadata": {
    "colab_type": "text",
    "deletable": true,
    "editable": true,
    "id": "FJPccmZYCzzN"
   },
   "source": [
    "# **Instantiate model class**"
   ]
  },
  {
   "cell_type": "code",
   "execution_count": 13,
   "metadata": {
    "colab": {
     "autoexec": {
      "startup": false,
      "wait_interval": 0
     },
     "base_uri": "https://localhost:8080/",
     "height": 17
    },
    "colab_type": "code",
    "collapsed": true,
    "deletable": true,
    "editable": true,
    "executionInfo": {
     "elapsed": 1288,
     "status": "ok",
     "timestamp": 1529938807330,
     "user": {
      "displayName": "Apoorv Lokhande",
      "photoUrl": "https://lh3.googleusercontent.com/a/default-user=s128",
      "userId": "101737975985454484958"
     },
     "user_tz": -330
    },
    "id": "ouE66SqzC3Zl",
    "outputId": "07cc8c53-8f9f-4fea-ae65-ed27a2573e37"
   },
   "outputs": [],
   "source": [
    "model = CNN()\n"
   ]
  },
  {
   "cell_type": "markdown",
   "metadata": {
    "colab_type": "text",
    "deletable": true,
    "editable": true,
    "id": "Ta1tAbq6Docv"
   },
   "source": [
    "# **Instantiate Loss class**"
   ]
  },
  {
   "cell_type": "code",
   "execution_count": 14,
   "metadata": {
    "colab": {
     "autoexec": {
      "startup": false,
      "wait_interval": 0
     },
     "base_uri": "https://localhost:8080/",
     "height": 17
    },
    "colab_type": "code",
    "collapsed": true,
    "deletable": true,
    "editable": true,
    "executionInfo": {
     "elapsed": 1324,
     "status": "ok",
     "timestamp": 1529938810610,
     "user": {
      "displayName": "Apoorv Lokhande",
      "photoUrl": "https://lh3.googleusercontent.com/a/default-user=s128",
      "userId": "101737975985454484958"
     },
     "user_tz": -330
    },
    "id": "u7IphfABDptU",
    "outputId": "ca0e0896-7b33-4df7-8c58-c4badcc18c50"
   },
   "outputs": [],
   "source": [
    "criterion = nn.CrossEntropyLoss()"
   ]
  },
  {
   "cell_type": "markdown",
   "metadata": {
    "colab_type": "text",
    "deletable": true,
    "editable": true,
    "id": "VBYTVDWcDusU"
   },
   "source": [
    "# Instantiate Optimizer **class**"
   ]
  },
  {
   "cell_type": "code",
   "execution_count": 19,
   "metadata": {
    "colab": {
     "autoexec": {
      "startup": false,
      "wait_interval": 0
     },
     "base_uri": "https://localhost:8080/",
     "height": 37
    },
    "colab_type": "code",
    "collapsed": true,
    "deletable": true,
    "editable": true,
    "executionInfo": {
     "elapsed": 1813,
     "status": "ok",
     "timestamp": 1529939363516,
     "user": {
      "displayName": "Apoorv Lokhande",
      "photoUrl": "https://lh3.googleusercontent.com/a/default-user=s128",
      "userId": "101737975985454484958"
     },
     "user_tz": -330
    },
    "id": "zsTg1IdCDwwb",
    "outputId": "1c5d79e5-b210-4541-fade-f8f0554e1b9a"
   },
   "outputs": [],
   "source": [
    "learning_rate = 0.01\n",
    "optimizer = torch.optim.SGD(model.parameters(), lr=learning_rate)"
   ]
  },
  {
   "cell_type": "markdown",
   "metadata": {
    "colab_type": "text",
    "deletable": true,
    "editable": true,
    "id": "WFl3sNPID7WQ"
   },
   "source": [
    "# **Training the model**"
   ]
  },
  {
   "cell_type": "code",
   "execution_count": 20,
   "metadata": {
    "colab": {
     "autoexec": {
      "startup": false,
      "wait_interval": 0
     },
     "base_uri": "https://localhost:8080/",
     "height": 136
    },
    "colab_type": "code",
    "collapsed": false,
    "deletable": true,
    "editable": true,
    "executionInfo": {
     "elapsed": 472082,
     "status": "ok",
     "timestamp": 1529939838909,
     "user": {
      "displayName": "Apoorv Lokhande",
      "photoUrl": "https://lh3.googleusercontent.com/a/default-user=s128",
      "userId": "101737975985454484958"
     },
     "user_tz": -330
    },
    "id": "uyZ7lY9DEAbY",
    "outputId": "6a6cf2f0-2491-40df-f655-376990d7df41"
   },
   "outputs": [
    {
     "name": "stdout",
     "output_type": "stream",
     "text": [
      "Iteration: 500, Loss: 0.3886265456676483, Accuracy: 85.97\n",
      "Iteration: 1000, Loss: 0.3541938066482544, Accuracy: 86.21\n",
      "Iteration: 1500, Loss: 0.28208163380622864, Accuracy: 87.52\n",
      "Iteration: 2000, Loss: 0.21328270435333252, Accuracy: 87.89\n",
      "Iteration: 2500, Loss: 0.2488858550786972, Accuracy: 88.31\n",
      "Iteration: 3000, Loss: 0.34421852231025696, Accuracy: 88.82\n",
      "Iteration: 3500, Loss: 0.3088317811489105, Accuracy: 88.81\n"
     ]
    }
   ],
   "source": [
    "iter = 0\n",
    "losses = []\n",
    "for epoch in range(num_epochs):\n",
    "  for i, (images, labels) in enumerate(train_loader):\n",
    "    images = Variable(images.float())\n",
    "    labels = Variable(labels)\n",
    "    \n",
    "    optimizer.zero_grad()\n",
    "    \n",
    "\n",
    "    outputs = model(images)\n",
    "    \n",
    "    \n",
    "    loss = criterion(outputs, labels)\n",
    "    \n",
    "    \n",
    "    loss.backward()\n",
    "    \n",
    "    \n",
    "    optimizer.step()\n",
    "    iter += 1\n",
    "    \n",
    "    \n",
    "    if iter % 500 == 0:\n",
    "        correct = 0\n",
    "        total = 0\n",
    "        for images, labels in test_loader:\n",
    "         \n",
    "                images = Variable(images.float())\n",
    "                outputs = model(images)\n",
    "          \n",
    "                \n",
    "                _, predicted = torch.max(outputs.data, 1)\n",
    "                total += labels.size(0)\n",
    "              \n",
    "                correct += (predicted == labels).sum()\n",
    "                \n",
    "        accuracy = 100 * correct/total\n",
    "    \n",
    "        print('Iteration: {}, Loss: {}, Accuracy: {}'.format(iter, loss.data[0], accuracy))\n",
    "      \n",
    "      \n",
    "    \n",
    "    \n",
    "    \n",
    "    \n",
    "    \n",
    "    "
   ]
  }
 ],
 "metadata": {
  "accelerator": "GPU",
  "colab": {
   "collapsed_sections": [],
   "default_view": {},
   "name": "FashionMNIST.ipynb",
   "provenance": [],
   "version": "0.3.2",
   "views": {}
  },
  "kernelspec": {
   "display_name": "Python 3",
   "language": "python",
   "name": "python3"
  },
  "language_info": {
   "codemirror_mode": {
    "name": "ipython",
    "version": 3
   },
   "file_extension": ".py",
   "mimetype": "text/x-python",
   "name": "python",
   "nbconvert_exporter": "python",
   "pygments_lexer": "ipython3",
   "version": "3.5.2"
  }
 },
 "nbformat": 4,
 "nbformat_minor": 0
}
